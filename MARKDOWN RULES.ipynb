{
 "cells": [
  {
   "cell_type": "markdown",
   "id": "bf1bd55a-83ed-4268-96f7-8e3ed3367744",
   "metadata": {},
   "source": [
    "## Creating A LIne Plot\n",
    "This tutorials show how to create a line plot"
   ]
  },
  {
   "cell_type": "code",
   "execution_count": 1,
   "id": "fa95c7ec-161f-4c37-9c94-7d57609d2ae5",
   "metadata": {},
   "outputs": [],
   "source": [
    "a = (1, 2, 3, 4)\n",
    "b = (-1, -2, -3, -4)"
   ]
  },
  {
   "cell_type": "code",
   "execution_count": 2,
   "id": "19baf3d4-b340-4992-b505-cb8bbaad88a3",
   "metadata": {},
   "outputs": [],
   "source": [
    "import matplotlib.pyplot as plt"
   ]
  },
  {
   "cell_type": "code",
   "execution_count": 3,
   "id": "32cf2fe3-2f64-4049-b5c2-1ab0514c48b4",
   "metadata": {},
   "outputs": [
    {
     "data": {
      "image/png": "[encoded data removed]",
      "text/plain": [
       "<Figure size 432x288 with 1 Axes>"
      ]
     },
     "metadata": {
      "needs_background": "light"
     },
     "output_type": "display_data"
    }
   ],
   "source": [
    "plt.plot(a,b)\n",
    "plt.show()"
   ]
  },
  {
   "cell_type": "markdown",
   "id": "7210986c-e149-43b8-8cbe-dafae79d6db5",
   "metadata": {},
   "source": [
    "<ahref=https://wwww.cognitiveclass.ai/?utm_medium=Exinfluencer&utm_source=Exinfluencer&utm_content=000026UJ&utm_term=1000655&utm_id-NA-SkillsNetwork-Channel-SkillsNetworkCoursesIBMDeveloperSkillsNetworkDS0105ENSkillsNetwork20083975-2021-01-01>Cognitive"
   ]
  },
  {
   "cell_type": "markdown",
   "id": "57594763-2938-49d1-8010-4a262fbed840",
   "metadata": {
    "tags": []
   },
   "source": [
    "# h1"
   ]
  },
  {
   "cell_type": "markdown",
   "id": "af267926-d031-4436-9d39-5208206a6934",
   "metadata": {},
   "source": [
    "## h1"
   ]
  },
  {
   "cell_type": "markdown",
   "id": "8f868f5d-3070-4723-80a5-6b3b2ca0f246",
   "metadata": {},
   "source": [
    "### h1\n",
    "#### h2\n",
    "##### h3\n",
    "###### h4"
   ]
  },
  {
   "cell_type": "markdown",
   "id": "b2157801-690f-47f6-a477-111e75ceb55a",
   "metadata": {
    "tags": []
   },
   "source": [
    "Alt-h1\n",
    "====="
   ]
  },
  {
   "cell_type": "markdown",
   "id": "2d78f1d3-06c8-4b4e-8da8-cf1ce3100915",
   "metadata": {
    "tags": []
   },
   "source": [
    "h2\n",
    "-------"
   ]
  },
  {
   "cell_type": "markdown",
   "id": "1754e7b2-6011-4926-900d-9ddc5a66ef47",
   "metadata": {},
   "source": [
    "*a*"
   ]
  },
  {
   "cell_type": "markdown",
   "id": "1541dac0-b959-4d58-be2f-c272787b5e16",
   "metadata": {},
   "source": [
    "**a**"
   ]
  },
  {
   "cell_type": "markdown",
   "id": "d11f53c3-39ef-4b8d-b28d-d77f74e2bf6e",
   "metadata": {},
   "source": [
    "**a and __d__**"
   ]
  },
  {
   "cell_type": "markdown",
   "id": "b5ce701a-923d-4b59-a8e4-819e1255bcd8",
   "metadata": {},
   "source": [
    "**a and _d_**"
   ]
  },
  {
   "cell_type": "markdown",
   "id": "da8625ad-27a2-40d2-a423-7d7284e36f10",
   "metadata": {},
   "source": [
    "~~GIDEON~~"
   ]
  },
  {
   "cell_type": "markdown",
   "id": "082d3ee0-0def-4b3c-b5dd-7f27061f119a",
   "metadata": {},
   "source": [
    "1. First ordered list item\n",
    "2. Another item\n",
    "⋅⋅* Unordered sub-list. \n",
    "1. Actual numbers don't matter, just that it's a number\n",
    "⋅⋅1. Ordered sub-list\n",
    "4. And another item.\n",
    "\n",
    "⋅⋅⋅You can have properly indented paragraphs within list items. Notice the blank line above, and the leading spaces (at least one, but we'll use three here to also align the raw Markdown).\n",
    "\n",
    "⋅⋅⋅To have a line break without a paragraph, you will need to use two trailing spaces.⋅⋅\n",
    "⋅⋅⋅Note that this line is separate, but within the same paragraph.⋅⋅\n",
    "⋅⋅⋅(This is contrary to the typical GFM line break behaviour, where trailing spaces are not required.)\n",
    "\n",
    "* Unordered list can use asterisks\n",
    "- Or minuses\n",
    "+ Or pluses\n"
   ]
  },
  {
   "cell_type": "markdown",
   "id": "9308b32d-8d3b-4842-a396-e7f922de4f16",
   "metadata": {},
   "source": [
    "[I'm an inline-style link](https://www.google.com)\n",
    "\n",
    "[I'm an inline-style link with title](https://www.google.com \"Google's Homepage\")\n",
    "\n",
    "[I'm a reference-style link][Arbitrary case-insensitive reference text]\n",
    "\n",
    "[I'm a relative reference to a repository file](../blob/master/LICENSE)\n",
    "\n",
    "[You can use numbers for reference-style link definitions][1]\n",
    "\n",
    "Or leave it empty and use the [link text itself].\n",
    "\n",
    "URLs and URLs in angle brackets will automatically get turned into links. \n",
    "http://www.example.com or <http://www.example.com> and sometimes \n",
    "example.com (but not on Github, for example).\n",
    "\n",
    "Some text to show that the reference links can follow later.\n",
    "\n",
    "[arbitrary case-insensitive reference text]: https://www.mozilla.org\n",
    "[1]: http://slashdot.org\n",
    "[link text itself]: http://www.reddit.com\n"
   ]
  },
  {
   "cell_type": "markdown",
   "id": "c407352e-bfc1-4b6f-8564-e57ffd1786cf",
   "metadata": {},
   "source": [
    "Here's our logo (hover to see the title text):\n",
    "\n",
    "Inline-style: \n",
    "![alt text](https://github.com/adam-p/markdown-here/raw/master/src/common/images/icon48.png \"Logo Title Text 1\")\n",
    "\n",
    "Reference-style: \n",
    "![alt text][logo]\n",
    "\n",
    "[logo]: https://github.com/adam-p/markdown-here/raw/master/src/common/images/icon48.png \"Logo Title Text 2\"\n"
   ]
  },
  {
   "cell_type": "markdown",
   "id": "0706aa8e-318d-4c51-85f5-6bf8c952c8aa",
   "metadata": {},
   "source": [
    "Inline `code` has `back-ticks around` it.\n"
   ]
  },
  {
   "cell_type": "markdown",
   "id": "50fa3976-4c73-49ed-9ef4-b8fed75c9567",
   "metadata": {},
   "source": [
    "```javascript\n",
    "var s = \"JavaScript syntax highlighting\";\n",
    "alert(s);\n",
    "```\n",
    " \n",
    "```python\n",
    "s = \"Python syntax highlighting\"\n",
    "print s\n",
    "```\n",
    " \n",
    "```\n",
    "No language indicated, so no syntax highlighting. \n",
    "But let's throw in a <b>tag</b>.\n",
    "```\n",
    "\n",
    "var s = \"JavaScript syntax highlighting\";\n",
    "alert(s);\n",
    "\n",
    "\n",
    "s = \"Python syntax highlighting\"\n",
    "print s\n",
    "\n",
    "\n",
    "No language indicated, so no syntax highlighting in Markdown Here (varies on Github). \n",
    "But let's throw in a <b>tag</b>.\n"
   ]
  },
  {
   "cell_type": "markdown",
   "id": "a1243012-9006-49dd-bc40-88de958d5e8a",
   "metadata": {},
   "source": [
    "Colons can be used to align columns.\n",
    "\n",
    "| Tables        | Are           | Cool  |\n",
    "| ------------- |:-------------:| -----:|\n",
    "| col 3 is      | right-aligned | $1600 |\n",
    "| col 2 is      | centered      |   $12 |\n",
    "| zebra stripes | are neat      |    $1 |\n",
    "\n",
    "There must be at least 3 dashes separating each header cell.\n",
    "The outer pipes (|) are optional, and you don't need to make the \n",
    "raw Markdown line up prettily. You can also use inline Markdown.\n",
    "\n",
    "Markdown | Less | Pretty\n",
    "--- | --- | ---\n",
    "*Still* | `renders` | **nicely**\n",
    "1 | 2 | 3\n"
   ]
  },
  {
   "cell_type": "markdown",
   "id": "6580df4a-7bae-4c32-8026-45fefa114531",
   "metadata": {},
   "source": [
    "> Blockquotes are very handy in email to emulate reply text.\n",
    "> This line is part of the same quote.\n",
    "\n",
    "Quote break.\n",
    "\n",
    "> This is a very long line that will still be quoted properly when it wraps. Oh boy let's keep writing to make sure this is long enough to actually wrap for everyone. Oh, you can *put* **Markdown** into a blockquote. \n"
   ]
  },
  {
   "cell_type": "markdown",
   "id": "ae4d8604-f960-44af-890b-49fe326ac870",
   "metadata": {},
   "source": [
    "<dl>\n",
    "  <dt>Definition list</dt>\n",
    "  <dd>Is something people use sometimes.</dd>\n",
    "\n",
    "  <dt>Markdown in HTML</dt>\n",
    "  <dd>Does *not* work **very** well. Use HTML <em>tags</em>.</dd>\n",
    "</dl>\n"
   ]
  },
  {
   "cell_type": "markdown",
   "id": "382fc844-d24e-42a7-887b-28bc7aad1621",
   "metadata": {},
   "source": [
    "Three or more...\n",
    "\n",
    "---\n",
    "\n",
    "Hyphens\n",
    "\n",
    "***\n",
    "\n",
    "Asterisks\n",
    "\n",
    "___\n",
    "\n",
    "Underscores\n"
   ]
  },
  {
   "cell_type": "markdown",
   "id": "e61c1594-c2ce-4f12-b568-253b7a78955b",
   "metadata": {},
   "source": [
    "Here's a line for us to start with.\n",
    "\n",
    "This line is separated from the one above by two newlines, so it will be a *separate paragraph*.\n",
    "\n",
    "This line is also a separate paragraph, but...\n",
    "This line is only separated by a single newline, so it's a separate line in the *same paragraph*.\n"
   ]
  },
  {
   "cell_type": "markdown",
   "id": "94289f3f-8856-4bd6-aa4c-fd5d4a344c52",
   "metadata": {},
   "source": [
    "<a href=\"http://www.youtube.com/watch?feature=player_embedded&v=YOUTUBE_VIDEO_ID_HERE\n",
    "\" target=\"_blank\"><img src=\"http://img.youtube.com/vi/YOUTUBE_VIDEO_ID_HERE/0.jpg\" \n",
    "alt=\"IMAGE ALT TEXT HERE\" width=\"240\" height=\"180\" border=\"10\" /></a>\n"
   ]
  },
  {
   "cell_type": "markdown",
   "id": "3613fbca-c820-4db5-aa6e-c7030b36d1f0",
   "metadata": {},
   "source": [
    "[![IMAGE ALT TEXT HERE](http://img.youtube.com/vi/YOUTUBE_VIDEO_ID_HERE/0.jpg)](http://www.youtube.com/watch?v=YOUTUBE_VIDEO_ID_HERE)"
   ]
  }
 ],
 "metadata": {
  "kernelspec": {
   "display_name": "Python 3 (ipykernel)",
   "language": "python",
   "name": "python3"
  },
  "language_info": {
   "codemirror_mode": {
    "name": "ipython",
    "version": 3
   },
   "file_extension": ".py",
   "mimetype": "text/x-python",
   "name": "python",
   "nbconvert_exporter": "python",
   "pygments_lexer": "ipython3",
   "version": "3.9.7"
  }
 },
 "nbformat": 4,
 "nbformat_minor": 5
}
